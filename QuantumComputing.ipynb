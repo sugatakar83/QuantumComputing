{
 "cells": [
  {
   "cell_type": "code",
   "execution_count": null,
   "id": "0143bdd5",
   "metadata": {},
   "outputs": [],
   "source": [
    "pip install qiskit"
   ]
  },
  {
   "cell_type": "code",
   "execution_count": null,
   "id": "e08d4113",
   "metadata": {},
   "outputs": [],
   "source": [
    "pip install pylatexenc"
   ]
  },
  {
   "cell_type": "code",
   "execution_count": 23,
   "id": "0fdd4538",
   "metadata": {},
   "outputs": [],
   "source": [
    "from sklearn import model_selection, datasets, svm\n",
    "from qiskit import QuantumCircuit, Aer, IBMQ, QuantumRegister, ClassicalRegister\n",
    "IBMQ.save_account('1fb65ee07e59b40aff552b4a399ab96366826d819c3daec88695245e30f77f518d1f2e3e899780baae0d972aa885bd1e871ce1c4000f864b7d76ab0360874d49')\n",
    "import numpy as np\n",
    "import qiskit\n",
    "import copy\n",
    "import matplotlib.pyplot as plt"
   ]
  },
  {
   "cell_type": "code",
   "execution_count": 3,
   "id": "d6466458",
   "metadata": {},
   "outputs": [],
   "source": [
    "iris = datasets.load_iris()\n",
    "X = iris.data[0:100]\n",
    "Y = iris.target[0:100]\n",
    "X_train, X_test, Y_train, Y_test = model_selection.train_test_split(X, Y, test_size=0.33,random_state=42)"
   ]
  },
  {
   "cell_type": "code",
   "execution_count": 4,
   "id": "3c3fb47b",
   "metadata": {},
   "outputs": [
    {
     "name": "stdout",
     "output_type": "stream",
     "text": [
      "[0 1 0 1 1 0 0 0 0 0 1 0 0 1 0 1 0 0 0 0 0 0 1 0 1 0 1 1 1 1 0 1 1 0 1 1 1\n",
      " 1 0 1 0 1 1 1 0 1 1 1 1 0 0 0 1 0 0 0 1 1 1 1 1 0 1 1 0 1 1]\n"
     ]
    }
   ],
   "source": [
    "print(Y_train)"
   ]
  },
  {
   "cell_type": "code",
   "execution_count": 5,
   "id": "923f865d",
   "metadata": {},
   "outputs": [
    {
     "name": "stdout",
     "output_type": "stream",
     "text": [
      "[5.2 3.4 1.4 0.2]\n"
     ]
    }
   ],
   "source": [
    "print(X_train[0])\n",
    "# there are 4 features"
   ]
  },
  {
   "cell_type": "code",
   "execution_count": 6,
   "id": "3d7b9ad0",
   "metadata": {},
   "outputs": [
    {
     "data": {
      "image/png": "[encoded data removed]",
      "text/plain": [
       "<Figure size 159.778x325.08 with 1 Axes>"
      ]
     },
     "execution_count": 6,
     "metadata": {},
     "output_type": "execute_result"
    }
   ],
   "source": [
    "N = 4 # select qubit number as 4 as there are 4 features\n",
    "q = QuantumRegister(N)\n",
    "c = ClassicalRegister(1) # measurement will be written to this one classical register\n",
    "qc = QuantumCircuit(q,c)\n",
    "\n",
    "for i, x in enumerate(X_train[0]): #rotate the qubits as per the feature value\n",
    "    qc.rx(x,i)\n",
    "    \n",
    "    \n",
    "qc.draw('mpl')"
   ]
  },
  {
   "cell_type": "code",
   "execution_count": 7,
   "id": "621846d6",
   "metadata": {},
   "outputs": [],
   "source": [
    "# create a feature map method\n",
    "def feature_map(X):\n",
    "    q = QuantumRegister(N)\n",
    "    c = ClassicalRegister(1)\n",
    "    qc = QuantumCircuit(q,c)\n",
    "    for i, x in enumerate(X):\n",
    "        qc.rx(x,i)\n",
    "    return qc, c"
   ]
  },
  {
   "cell_type": "code",
   "execution_count": 8,
   "id": "33011177",
   "metadata": {},
   "outputs": [
    {
     "data": {
      "image/png": "[encoded data removed]",
      "text/plain": [
       "<Figure size 159.923x325.08 with 1 Axes>"
      ]
     },
     "execution_count": 8,
     "metadata": {},
     "output_type": "execute_result"
    }
   ],
   "source": [
    "qc, c = feature_map(X_train[5])\n",
    "qc.draw('mpl')"
   ]
  },
  {
   "cell_type": "code",
   "execution_count": 9,
   "id": "8d29b1d3",
   "metadata": {},
   "outputs": [],
   "source": [
    "# create a variational circuit containing rotation angle Ry, \n",
    "# which then be optimized to get the\n",
    "# desired output; prediction in this case\n",
    "# eg. print(Y_train[5]) which is happened to be 0\n",
    "def variational_circuit(qc, theta):\n",
    "    for i in range(N-1):\n",
    "        qc.cnot(i,i+1)\n",
    "    qc.cnot(N-1, 0)  # CNOT gates for entanglement i.e transfer information from one qubit to another\n",
    "    for i in range (N):\n",
    "        qc.ry(theta[i],i)\n",
    "    \n",
    "    return qc"
   ]
  },
  {
   "cell_type": "code",
   "execution_count": 10,
   "id": "be82fda8",
   "metadata": {},
   "outputs": [
    {
     "data": {
      "image/png": "[encoded data removed]",
      "text/plain": [
       "<Figure size 641.669x325.08 with 1 Axes>"
      ]
     },
     "execution_count": 10,
     "metadata": {},
     "output_type": "execute_result"
    }
   ],
   "source": [
    "qc, c = feature_map(X_train[5])\n",
    "qc.barrier()\n",
    "qc = variational_circuit(qc, np.random.rand(N))\n",
    "qc.barrier()\n",
    "qc.measure(0,c)\n",
    "qc.draw('mpl')\n"
   ]
  },
  {
   "cell_type": "code",
   "execution_count": 11,
   "id": "0c011844",
   "metadata": {},
   "outputs": [
    {
     "name": "stdout",
     "output_type": "stream",
     "text": [
      "{'0': 3863, '1': 6137}\n",
      "0.6137\n"
     ]
    }
   ],
   "source": [
    "shots = 1E4 # run the circuit for 10,000 times\n",
    "backend = Aer.get_backend('qasm_simulator')\n",
    "job = qiskit.execute(qc,backend,shots=shots)\n",
    "result = job.result()\n",
    "counts = result.get_counts(qc)\n",
    "print(counts)\n",
    "print(counts['1']/shots)\n",
    "\n",
    "# this circuit provides an output saying 65% probabaility that label for X_train[5] \n",
    "# i.e Y_train[5] is 1. However, the actual prediction is 0"
   ]
  },
  {
   "cell_type": "code",
   "execution_count": 12,
   "id": "4ee8ffc6",
   "metadata": {},
   "outputs": [],
   "source": [
    "# creating a quantum NN function\n",
    "def quantum_nn(X, theta, simulator=True):\n",
    "    qc, c = feature_map(X)\n",
    "    qc = variational_circuit(qc, theta)\n",
    "    qc.measure(0,c)\n",
    "    \n",
    "    shots = 1E4\n",
    "    backend = Aer.get_backend('qasm_simulator')\n",
    "    if simulator == False:\n",
    "        shots = 5000\n",
    "        provider = IBMQ.load_account()\n",
    "        backend = provider.get_backend('ibmq_manila')\n",
    "    job = qiskit.execute(qc,backend,shots=shots)\n",
    "    result = job.result()\n",
    "    counts = result.get_counts(qc)\n",
    "    \n",
    "    return counts['1']/shots"
   ]
  },
  {
   "cell_type": "code",
   "execution_count": 15,
   "id": "59840fcb",
   "metadata": {
    "scrolled": true
   },
   "outputs": [
    {
     "name": "stdout",
     "output_type": "stream",
     "text": [
      "0.6781\n"
     ]
    }
   ],
   "source": [
    "# prediction probability of output to be 1\n",
    "prediction = quantum_nn(X_train[5], np.random.rand(N))\n",
    "print(prediction)"
   ]
  },
  {
   "cell_type": "code",
   "execution_count": 14,
   "id": "db3459d5",
   "metadata": {},
   "outputs": [
    {
     "name": "stdout",
     "output_type": "stream",
     "text": [
      "0\n"
     ]
    }
   ],
   "source": [
    "target = Y_train[5]\n",
    "print(target)"
   ]
  },
  {
   "cell_type": "code",
   "execution_count": 16,
   "id": "9f516a86",
   "metadata": {},
   "outputs": [],
   "source": [
    "# loss function is squared error. when this is =0 then the prediction is correct\n",
    "\n",
    "def loss(prediction, target):\n",
    "    return (prediction-target)**2"
   ]
  },
  {
   "cell_type": "code",
   "execution_count": 17,
   "id": "c6bac3ae",
   "metadata": {},
   "outputs": [],
   "source": [
    "def gradient(X, Y, theta):\n",
    "    delta = 0.01\n",
    "    grad = []\n",
    "    for i in range (len(theta)):\n",
    "        dtheta = copy.copy(theta)\n",
    "        dtheta[i] += delta\n",
    "        pred1 = quantum_nn(X, dtheta)\n",
    "        pred2 = quantum_nn(X, theta)\n",
    "        grad.append((loss(pred1,Y)-loss(pred2,Y))/delta)\n",
    "    return np.array(grad)"
   ]
  },
  {
   "cell_type": "code",
   "execution_count": 18,
   "id": "83fae709",
   "metadata": {},
   "outputs": [],
   "source": [
    "def accuracy(X, Y, theta):\n",
    "    counter = 0\n",
    "    for X_i, Y_i in zip (X, Y):\n",
    "        prediction = quantum_nn(X_i, theta)\n",
    "        if prediction < 0.5 and Y_i == 0:\n",
    "            counter +=1\n",
    "        elif prediction >= 0.5 and Y_i ==1:\n",
    "            counter +=1\n",
    "    return counter/len(Y)"
   ]
  },
  {
   "cell_type": "code",
   "execution_count": 19,
   "id": "2c0db2e3",
   "metadata": {},
   "outputs": [
    {
     "name": "stdout",
     "output_type": "stream",
     "text": [
      "Epoch \t Loss \t Training Accuracy\n",
      "0 \t 0.287 \t 0.194\n",
      "1 \t 0.269 \t 0.343\n",
      "2 \t 0.242 \t 0.806\n",
      "3 \t 0.227 \t 0.791\n",
      "4 \t 0.233 \t 0.806\n",
      "5 \t 0.227 \t 0.806\n",
      "6 \t 0.216 \t 0.821\n",
      "7 \t 0.212 \t 0.851\n",
      "8 \t 0.210 \t 0.851\n",
      "9 \t 0.208 \t 0.821\n",
      "10 \t 0.218 \t 0.791\n",
      "11 \t 0.232 \t 0.806\n",
      "12 \t 0.238 \t 0.821\n",
      "13 \t 0.230 \t 0.806\n",
      "14 \t 0.233 \t 0.821\n",
      "15 \t 0.221 \t 0.806\n",
      "16 \t 0.217 \t 0.866\n",
      "17 \t 0.211 \t 0.791\n",
      "18 \t 0.202 \t 0.821\n",
      "19 \t 0.201 \t 0.821\n"
     ]
    }
   ],
   "source": [
    "# the intention is to chnnage the theta value so as to minimize the loss \n",
    "eta = 0.05 # learning rate in SGD\n",
    "loss_list = []\n",
    "theta = np.ones(N)\n",
    "print ('Epoch \\t Loss \\t Training Accuracy')\n",
    "for i in range (20): # creating epochs\n",
    "    loss_tmp = []\n",
    "    for X_i, Y_i in zip(X_train, Y_train):\n",
    "        prediction = quantum_nn(X_i, theta)\n",
    "        loss_tmp.append(loss(prediction, Y_i))\n",
    "        theta = theta - eta * gradient(X_i, Y_i, theta)\n",
    "    \n",
    "    loss_list.append(np.mean(loss_tmp)) # store the losses to check whether this is decreasing or not\n",
    "    acc = accuracy(X_train, Y_train, theta)\n",
    "    \n",
    "    print(f'{i} \\t {loss_list[-1]:.3f} \\t {acc:.3f}')"
   ]
  },
  {
   "cell_type": "code",
   "execution_count": 20,
   "id": "d35ae019",
   "metadata": {},
   "outputs": [
    {
     "data": {
      "text/plain": [
       "<function matplotlib.pyplot.show(close=None, block=None)>"
      ]
     },
     "execution_count": 20,
     "metadata": {},
     "output_type": "execute_result"
    },
    {
     "data": {
      "image/png": "[encoded data removed]",
      "text/plain": [
       "<Figure size 432x288 with 1 Axes>"
      ]
     },
     "metadata": {
      "needs_background": "light"
     },
     "output_type": "display_data"
    }
   ],
   "source": [
    "plt.plot(loss_list)\n",
    "plt.xlabel('Epochs')\n",
    "plt.ylabel('Loss')\n",
    "plt.show"
   ]
  },
  {
   "cell_type": "code",
   "execution_count": 21,
   "id": "01f5b472",
   "metadata": {},
   "outputs": [
    {
     "data": {
      "text/plain": [
       "0.7878787878787878"
      ]
     },
     "execution_count": 21,
     "metadata": {},
     "output_type": "execute_result"
    }
   ],
   "source": [
    "# check the accuracy for the test set\n",
    "accuracy(X_test, Y_test, theta)"
   ]
  },
  {
   "cell_type": "code",
   "execution_count": 24,
   "id": "60d73bed",
   "metadata": {},
   "outputs": [
    {
     "data": {
      "text/plain": [
       "0.3064"
      ]
     },
     "execution_count": 24,
     "metadata": {},
     "output_type": "execute_result"
    }
   ],
   "source": [
    "# running the code in actual IBM quantum system\n",
    "quantum_nn(X_test[6], theta, simulator=False)"
   ]
  },
  {
   "cell_type": "code",
   "execution_count": 25,
   "id": "d439e8b0",
   "metadata": {},
   "outputs": [
    {
     "data": {
      "text/plain": [
       "0.2638"
      ]
     },
     "execution_count": 25,
     "metadata": {},
     "output_type": "execute_result"
    }
   ],
   "source": [
    "# running in the simulator\n",
    "quantum_nn(X_test[6], theta)"
   ]
  },
  {
   "cell_type": "code",
   "execution_count": null,
   "id": "8c0deacc",
   "metadata": {},
   "outputs": [],
   "source": []
  }
 ],
 "metadata": {
  "kernelspec": {
   "display_name": "Python 3 (ipykernel)",
   "language": "python",
   "name": "python3"
  },
  "language_info": {
   "codemirror_mode": {
    "name": "ipython",
    "version": 3
   },
   "file_extension": ".py",
   "mimetype": "text/x-python",
   "name": "python",
   "nbconvert_exporter": "python",
   "pygments_lexer": "ipython3",
   "version": "3.9.7"
  }
 },
 "nbformat": 4,
 "nbformat_minor": 5
}
